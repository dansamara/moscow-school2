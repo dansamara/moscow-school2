{
 "cells": [
  {
   "cell_type": "code",
   "execution_count": 842,
   "metadata": {
    "collapsed": false
   },
   "outputs": [],
   "source": [
    "%run -n main.py\n",
    "%matplotlib inline\n",
    "jobs = jobs_manager()"
   ]
  },
  {
   "cell_type": "code",
   "execution_count": 843,
   "metadata": {
    "collapsed": false,
    "scrolled": false
   },
   "outputs": [],
   "source": [
    "%run -n main.py\n",
    "eduoffices = [load_eduoffice(_) for _ in log_progress(list_eduoffice_cache(), every=100)]\n",
    "# '2147483647' if bad inn it was fixed after update\n",
    "eduoffices = [_ for _ in eduoffices if _.inn != '2147483647']"
   ]
  },
  {
   "cell_type": "markdown",
   "metadata": {},
   "source": [
    "# Отбор школ. Названия"
   ]
  },
  {
   "cell_type": "code",
   "execution_count": 1434,
   "metadata": {
    "collapsed": false
   },
   "outputs": [],
   "source": [
    "%run -n main.py\n",
    "# school_eduoffices = list(filter_eduoffices(eduoffices))\n",
    "# dump_eduoffices_check(school_eduoffices)\n",
    "eduoffices_selection = list(load_eduoffices_check())"
   ]
  },
  {
   "cell_type": "code",
   "execution_count": 1426,
   "metadata": {
    "collapsed": false
   },
   "outputs": [
    {
     "name": "stdout",
     "output_type": "stream",
     "text": [
      "\n",
      "\n",
      "\n",
      "\n",
      "\n",
      "Гимназии  № 1543\n",
      "Гимназии «Свиблово»\n",
      "Гимназии Марьина Роща\n",
      "Гимназии № 1257\n",
      "Гимназии № 1272\n",
      "Гимназии № 1274\n",
      "Гимназии № 1290\n",
      "Гимназии № 1306\n",
      "Гимназии № 1358\n",
      "Гимназии № 1389\n",
      "Гимназии № 1404\n",
      "Гимназии № 1409\n",
      "Гимназии № 1448\n",
      "Гимназии № 1476\n",
      "Гимназии № 1503\n",
      "Гимназии № 1504\n",
      "Гимназии № 1505\n",
      "Гимназии № 1506\n",
      "Гимназии № 1507\n",
      "Гимназии № 1508\n",
      "Гимназии № 1512\n",
      "Гимназии № 1514\n",
      "Гимназии № 1515\n",
      "Гимназии № 1516\n",
      "Гимназии № 1517\n",
      "Гимназии № 1518\n",
      "Гимназии № 1519\n",
      "Гимназии № 1520\n",
      "Гимназии № 1522\n",
      "Гимназии № 1526\n",
      "Гимназии № 1527\n",
      "Гимназии № 1528\n",
      "Гимназии № 1529\n",
      "Гимназии № 1530\n",
      "Гимназии № 1531\n",
      "Гимназии № 1532\n",
      "Гимназии № 1534\n",
      "Гимназии № 1536\n",
      "Гимназии № 1538\n",
      "Гимназии № 1539\n",
      "Гимназии № 1540\n",
      "Гимназии № 1541\n",
      "Гимназии № 1542\n",
      "Гимназии № 1544\n",
      "Гимназии № 1551\n",
      "Гимназии № 1552\n",
      "Гимназии № 1554\n",
      "Гимназии № 1558\n",
      "Гимназии № 1562\n",
      "Гимназии № 1563\n",
      "Гимназии № 1567\n",
      "Гимназии № 1569\n",
      "Гимназии № 1570\n",
      "Гимназии № 1573\n",
      "Гимназии № 1576\n",
      "Гимназии № 1577\n",
      "Гимназии № 1579\n",
      "Гимназии № 1582\n",
      "Гимназии № 1583\n",
      "Гимназии № 1584\n",
      "Гимназии № 1590\n",
      "Гимназии № 1591\n",
      "Гимназии № 1592\n",
      "Гимназии № 1593\n",
      "Гимназии № 1595\n",
      "Гимназии № 1596\n",
      "Гимназии № 1619\n",
      "Гимназии № 1636\n",
      "Гимназии № 1637\n",
      "Гимназии № 1748\n",
      "Гимназии № 1786\n",
      "Гимназии № 1797\n",
      "Гимназии № 1798\n",
      "Гимназии № 1799\n",
      "Гимназии № 1811\n",
      "Гимназии № 1925\n",
      "Гимназии № 201\n",
      "Гимназии № 2072\n",
      "Гимназии № 2200\n",
      "Гимназии № 402\n",
      "Гимназии № 45\n",
      "Гимназии № 491\n",
      "Гимназии № 625\n",
      "Гимназии № 710\n",
      "\n",
      "Комплекса «Кузьминки»\n",
      "Комплекса Бибирево\n",
      "Комплекса на Юго-Востоке\n",
      "\n",
      "Лицея «Вторая школа»\n",
      "Лицея № 1158\n",
      "Лицея № 1310\n",
      "Лицея № 1367\n",
      "Лицея № 138\n",
      "Лицея № 1451\n",
      "Лицея № 1501\n",
      "Лицея № 1502\n",
      "Лицея № 1523\n",
      "Лицея № 1524\n",
      "Лицея № 1525\n",
      "Лицея № 1533\n",
      "Лицея № 1535\n",
      "Лицея № 1537\n",
      "Лицея № 1547\n",
      "Лицея № 1550\n",
      "Лицея № 1553\n",
      "Лицея № 1555\n",
      "Лицея № 1557\n",
      "Лицея № 1560\n",
      "Лицея № 1561\n",
      "Лицея № 1564\n",
      "Лицея № 1568\n",
      "Лицея № 1571\n",
      "Лицея № 1574\n",
      "Лицея № 1575\n",
      "Лицея № 1580\n",
      "Лицея № 1581\n",
      "Лицея № 1586\n",
      "Лицея № 1589\n",
      "Лицея № 1598\n",
      "Лицея № 1793\n",
      "Лицея № 1795\n",
      "Лицея № 1799\n",
      "Лицея № 1828\n",
      "Лицея № 2010\n",
      "Лицея № 429\n",
      "Лицея № 504\n",
      "Лицея № 507\n",
      "Лицея № 86\n",
      "\n",
      "\n",
      "\n",
      "\n",
      "\n",
      "\n",
      "Центра образования № 1296\n",
      "Центра образования № 1311\n",
      "Центра образования № 1449\n",
      "Центра образования № 1483\n",
      "Центра образования № 1601\n",
      "Центра образования № 1602\n",
      "Центра образования № 1678\n",
      "Центра образования № 1816\n",
      "Центра образования № 1858\n",
      "Центра образования № 1953\n",
      "Центра образования № 548\n",
      "Центра образования № 57\n",
      "\n",
      "Школы «Перспектива»\n",
      "Школы «Спектр»\n",
      "Школы имени Поповича\n",
      "Школы лицей № 1420\n",
      "Школы на Яузе\n",
      "Школы № 1000\n",
      "Школы № 1002\n",
      "Школы № 1005\n",
      "Школы № 1015\n",
      "Школы № 1018\n",
      "Школы № 1021\n",
      "Школы № 1022\n",
      "Школы № 1028\n",
      "Школы № 1034\n",
      "Школы № 1055\n",
      "Школы № 1056\n",
      "Школы № 1065\n",
      "Школы № 1073\n",
      "Школы № 1076\n",
      "Школы № 1078\n",
      "Школы № 109\n",
      "Школы № 1095\n",
      "Школы № 1100\n",
      "Школы № 1101\n",
      "Школы № 1103\n",
      "Школы № 1106\n",
      "Школы № 1114\n",
      "Школы № 1125\n",
      "Школы № 113\n",
      "Школы № 1130\n",
      "Школы № 1133\n",
      "Школы № 1143\n",
      "Школы № 1148\n",
      "Школы № 1150\n",
      "Школы № 1151\n",
      "Школы № 1155\n",
      "Школы № 1159\n",
      "Школы № 1161\n",
      "Школы № 1164\n",
      "Школы № 117\n",
      "Школы № 1173\n",
      "Школы № 1174\n",
      "Школы № 1179\n",
      "Школы № 118\n",
      "Школы № 1186\n",
      "Школы № 1190\n",
      "Школы № 1191\n",
      "Школы № 1194\n",
      "Школы № 1195\n",
      "Школы № 1200\n",
      "Школы № 1205\n",
      "Школы № 1206\n",
      "Школы № 1207\n",
      "Школы № 1208\n",
      "Школы № 121\n",
      "Школы № 1210\n",
      "Школы № 1212\n",
      "Школы № 1213\n",
      "Школы № 1220\n",
      "Школы № 1222\n",
      "Школы № 1223\n",
      "Школы № 1228\n",
      "Школы № 123\n",
      "Школы № 1231\n",
      "Школы № 1232\n",
      "Школы № 1234\n",
      "Школы № 1236\n",
      "Школы № 1238\n",
      "Школы № 1239\n",
      "Школы № 1240\n",
      "Школы № 1241\n",
      "Школы № 1242\n",
      "Школы № 1245\n",
      "Школы № 1246\n",
      "Школы № 1247\n",
      "Школы № 1248\n",
      "Школы № 1249\n",
      "Школы № 1250\n",
      "Школы № 1251\n",
      "Школы № 1252\n",
      "Школы № 1253\n",
      "Школы № 1256\n",
      "Школы № 1259\n",
      "Школы № 1265\n",
      "Школы № 1269\n",
      "Школы № 1270\n",
      "Школы № 1273\n",
      "Школы № 1279\n",
      "Школы № 1280\n",
      "Школы № 1282\n",
      "Школы № 1284\n",
      "Школы № 1285\n",
      "Школы № 1286\n",
      "Школы № 1287\n",
      "Школы № 1288\n",
      "Школы № 1293\n",
      "Школы № 1297\n",
      "Школы № 1298\n",
      "Школы № 1301\n",
      "Школы № 1302\n",
      "Школы № 1307\n",
      "Школы № 1315\n",
      "Школы № 1317\n",
      "Школы № 1319\n",
      "Школы № 1321\n",
      "Школы № 1324\n",
      "Школы № 1329\n",
      "Школы № 1331\n",
      "Школы № 1347\n",
      "Школы № 1349\n",
      "Школы № 1352\n",
      "Школы № 1353\n",
      "Школы № 1354\n",
      "Школы № 1355\n",
      "Школы № 1356\n",
      "Школы № 1357\n",
      "Школы № 1359\n",
      "Школы № 1360\n",
      "Школы № 1362\n",
      "Школы № 1363\n",
      "Школы № 1366\n",
      "Школы № 1368\n",
      "Школы № 1370\n",
      "Школы № 1371\n",
      "Школы № 1373\n",
      "Школы № 1374\n",
      "Школы № 1375\n",
      "Школы № 1376\n",
      "Школы № 1381\n",
      "Школы № 1383\n",
      "Школы № 1384\n",
      "Школы № 1386\n",
      "Школы № 1387\n",
      "Школы № 1393\n",
      "Школы № 1394\n",
      "Школы № 1399\n",
      "Школы № 14\n",
      "Школы № 1400\n",
      "Школы № 141\n",
      "Школы № 1411\n",
      "Школы № 1412\n",
      "Школы № 1413\n",
      "Школы № 1415\n",
      "Школы № 1416\n",
      "Школы № 1421\n",
      "Школы № 1423\n",
      "Школы № 1429\n",
      "Школы № 1430\n",
      "Школы № 1432\n",
      "Школы № 1434\n",
      "Школы № 1436\n",
      "Школы № 1440\n",
      "Школы № 1450\n",
      "Школы № 1454\n",
      "Школы № 1460\n",
      "Школы № 1465\n",
      "Школы № 1466\n",
      "Школы № 1467\n",
      "Школы № 1468\n",
      "Школы № 1471\n",
      "Школы № 1474\n",
      "Школы № 1482\n",
      "Школы № 149\n",
      "Школы № 1492\n",
      "Школы № 1494\n",
      "Школы № 1497\n",
      "Школы № 1498\n",
      "Школы № 1499\n",
      "Школы № 15\n",
      "Школы № 152\n",
      "Школы № 1566\n",
      "Школы № 158\n",
      "Школы № 1613\n",
      "Школы № 1621\n",
      "Школы № 1623\n",
      "Школы № 1631\n",
      "Школы № 1650\n",
      "Школы № 166\n",
      "Школы № 167\n",
      "Школы № 1692\n",
      "Школы № 1694\n",
      "Школы № 17\n",
      "Школы № 170\n",
      "Школы № 171\n",
      "Школы № 1716\n",
      "Школы № 1726\n",
      "Школы № 1739\n",
      "Школы № 1741\n",
      "Школы № 1747\n",
      "Школы № 1770\n",
      "Школы № 1788\n",
      "Школы № 1794\n",
      "Школы № 183\n",
      "Школы № 185\n",
      "Школы № 1852\n",
      "Школы № 1861\n",
      "Школы № 1862\n",
      "Школы № 1874\n",
      "Школы № 1877\n",
      "Школы № 1883\n",
      "Школы № 19\n",
      "Школы № 1900\n",
      "Школы № 1905\n",
      "Школы № 1908\n",
      "Школы № 1909\n",
      "Школы № 1912\n",
      "Школы № 192\n",
      "Школы № 1929\n",
      "Школы № 1935\n",
      "Школы № 1944\n",
      "Школы № 1945\n",
      "Школы № 1947\n",
      "Школы № 1948\n",
      "Школы № 1950\n",
      "Школы № 1955\n",
      "Школы № 1959\n",
      "Школы № 1973\n",
      "Школы № 1980\n",
      "Школы № 1981\n",
      "Школы № 1985\n",
      "Школы № 1987\n",
      "Школы № 1989\n",
      "Школы № 199\n",
      "Школы № 1995\n",
      "Школы № 1996\n",
      "Школы № 1998\n",
      "Школы № 2000\n",
      "Школы № 2001\n",
      "Школы № 2005\n",
      "Школы № 2006\n",
      "Школы № 2007\n",
      "Школы № 2009\n",
      "Школы № 2012\n",
      "Школы № 2016\n",
      "Школы № 2017\n",
      "Школы № 2025\n",
      "Школы № 2026\n",
      "Школы № 2030\n",
      "Школы № 2031\n",
      "Школы № 2033\n",
      "Школы № 2036\n",
      "Школы № 2042\n",
      "Школы № 2044\n",
      "Школы № 2045\n",
      "Школы № 2048\n",
      "Школы № 2051\n",
      "Школы № 2053\n",
      "Школы № 2054\n",
      "Школы № 2055\n",
      "Школы № 2057\n",
      "Школы № 2065\n",
      "Школы № 2070\n",
      "Школы № 2083\n",
      "Школы № 2086\n",
      "Школы № 2087\n",
      "Школы № 2088\n",
      "Школы № 2089\n",
      "Школы № 2090\n",
      "Школы № 2092\n",
      "Школы № 2093\n",
      "Школы № 2094\n",
      "Школы № 2095\n",
      "Школы № 2097\n",
      "Школы № 2098\n",
      "Школы № 2099\n",
      "Школы № 2100\n",
      "Школы № 2101\n",
      "Школы № 2103\n",
      "Школы № 2104\n",
      "Школы № 2107\n",
      "Школы № 2109\n",
      "Школы № 2110\n",
      "Школы № 2111\n",
      "Школы № 2113\n",
      "Школы № 2114\n",
      "Школы № 2115\n",
      "Школы № 2116\n",
      "Школы № 2117\n",
      "Школы № 2120\n",
      "Школы № 2121\n",
      "Школы № 2122\n",
      "Школы № 2123\n",
      "Школы № 2126\n",
      "Школы № 2127\n",
      "Школы № 2128\n",
      "Школы № 2129\n",
      "Школы № 216\n",
      "Школы № 218\n",
      "Школы № 222\n",
      "Школы № 224\n",
      "Школы № 236\n",
      "Школы № 281\n",
      "Школы № 283\n",
      "Школы № 285\n",
      "Школы № 293\n",
      "Школы № 305\n",
      "Школы № 315\n",
      "Школы № 319\n",
      "Школы № 323\n",
      "Школы № 324\n",
      "Школы № 329\n",
      "Школы № 338\n",
      "Школы № 345\n",
      "Школы № 354\n",
      "Школы № 356\n",
      "Школы № 362\n",
      "Школы № 368\n",
      "Школы № 37\n",
      "Школы № 374\n",
      "Школы № 38\n",
      "Школы № 384\n",
      "Школы № 386\n",
      "Школы № 390\n",
      "Школы № 391\n",
      "Школы № 399\n",
      "Школы № 400\n",
      "Школы № 41\n",
      "Школы № 415\n",
      "Школы № 417\n",
      "Школы № 423\n",
      "Школы № 426\n",
      "Школы № 438\n",
      "Школы № 439\n",
      "Школы № 444\n",
      "Школы № 446\n",
      "Школы № 448\n",
      "Школы № 46\n",
      "Школы № 460\n",
      "Школы № 463\n",
      "Школы № 479\n",
      "Школы № 480\n",
      "Школы № 484\n",
      "Школы № 49\n",
      "Школы № 492\n",
      "Школы № 494\n",
      "Школы № 498\n",
      "Школы № 508\n",
      "Школы № 51\n",
      "Школы № 514\n",
      "Школы № 518\n",
      "Школы № 534\n",
      "Школы № 536\n",
      "Школы № 538\n",
      "Школы № 544\n",
      "Школы № 547\n",
      "Школы № 554\n",
      "Школы № 556\n",
      "Школы № 56\n",
      "Школы № 572\n",
      "Школы № 58\n",
      "Школы № 587\n",
      "Школы № 590\n",
      "Школы № 597\n",
      "Школы № 609\n",
      "Школы № 618\n",
      "Школы № 626\n",
      "Школы № 627\n",
      "Школы № 629\n",
      "Школы № 63\n",
      "Школы № 630\n",
      "Школы № 633\n",
      "Школы № 64\n",
      "Школы № 641\n",
      "Школы № 648\n",
      "Школы № 654\n",
      "Школы № 656\n",
      "Школы № 657\n",
      "Школы № 664\n",
      "Школы № 667\n",
      "Школы № 668\n",
      "Школы № 687\n",
      "Школы № 69\n",
      "Школы № 7\n",
      "Школы № 705\n",
      "Школы № 709\n",
      "Школы № 712\n",
      "Школы № 717\n",
      "Школы № 718\n",
      "Школы № 719\n",
      "Школы № 72\n",
      "Школы № 727\n",
      "Школы № 734\n",
      "Школы № 74\n",
      "Школы № 744\n",
      "Школы № 760\n",
      "Школы № 763\n",
      "Школы № 771\n",
      "Школы № 773\n",
      "Школы № 777\n",
      "Школы № 799\n",
      "Школы № 806\n",
      "Школы № 809\n",
      "Школы № 810\n",
      "Школы № 814\n",
      "Школы № 825\n",
      "Школы № 827\n",
      "Школы № 830\n",
      "Школы № 842\n",
      "Школы № 843\n",
      "Школы № 851\n",
      "Школы № 852\n",
      "Школы № 853\n",
      "Школы № 854\n",
      "Школы № 856\n",
      "Школы № 867\n",
      "Школы № 868\n",
      "Школы № 870\n",
      "Школы № 875\n",
      "Школы № 878\n",
      "Школы № 879\n",
      "Школы № 88\n",
      "Школы № 880\n",
      "Школы № 883\n",
      "Школы № 887\n",
      "Школы № 89\n",
      "Школы № 892\n",
      "Школы № 896\n",
      "Школы № 9\n",
      "Школы № 90\n",
      "Школы № 902\n",
      "Школы № 904\n",
      "Школы № 91\n",
      "Школы № 913\n",
      "Школы № 920\n",
      "Школы № 922\n",
      "Школы № 924\n",
      "Школы № 932\n",
      "Школы № 933\n",
      "Школы № 935\n",
      "Школы № 937\n",
      "Школы № 939\n",
      "Школы № 947\n",
      "Школы № 949\n",
      "Школы № 950\n",
      "Школы № 953\n",
      "Школы № 956\n",
      "Школы № 962\n",
      "Школы № 967\n",
      "Школы № 97\n",
      "Школы № 975\n",
      "Школы № 978\n",
      "Школы № 979\n",
      "Школы № 982\n",
      "Школы № 996\n",
      "Школы № 998\n"
     ]
    }
   ],
   "source": [
    "for record in eduoffices_selection:\n",
    "    name = record.short\n",
    "    if name.startswith(u'Школа'):\n",
    "        name = name.replace(u'Школа', u'Школы')\n",
    "    elif name.startswith(u'Лицей'):\n",
    "        name = name.replace(u'Лицей', u'Лицея')\n",
    "    elif name.startswith(u'Гимназия'):\n",
    "        name = name.replace(u'Гимназия', u'Гимназии')\n",
    "    elif name.startswith(u'Центр образования'):\n",
    "        name = name.replace(u'Центр образования', u'Центра образования')\n",
    "    elif name.startswith(u'Комплекс'):\n",
    "        name = name.replace(u'Комплекс', u'Комплекса')\n",
    "    else:\n",
    "        name = ''\n",
    "    print name\n"
   ]
  },
  {
   "cell_type": "markdown",
   "metadata": {},
   "source": [
    "# Адреса"
   ]
  },
  {
   "cell_type": "code",
   "execution_count": 845,
   "metadata": {
    "collapsed": false,
    "scrolled": false
   },
   "outputs": [],
   "source": [
    "%run -n main.py\n",
    "addresses_cache = {}\n",
    "for description in log_progress(list_addresses_cache(), every=1000):\n",
    "    address = load_address(description)\n",
    "    if address:\n",
    "        addresses_cache[description] = address"
   ]
  },
  {
   "cell_type": "code",
   "execution_count": 846,
   "metadata": {
    "collapsed": false
   },
   "outputs": [],
   "source": [
    "%run -n main.py\n",
    "# urls = [_.url for _ in eduoffices_selection]\n",
    "# url_menus = load_raw_url_menus(log_progress(urls, every=1))\n",
    "# dump_url_menus(url_menus)\n",
    "url_menus = load_url_menus()"
   ]
  },
  {
   "cell_type": "code",
   "execution_count": 909,
   "metadata": {
    "collapsed": false
   },
   "outputs": [],
   "source": [
    "%run -n main.py\n",
    "# dump_addresses_check(eduoffices_selection, url_menus, eduoffices, addresses)\n",
    "school_addresses = list(load_address_check())"
   ]
  },
  {
   "cell_type": "markdown",
   "metadata": {},
   "source": [
    "# Рейтинги"
   ]
  },
  {
   "cell_type": "code",
   "execution_count": 848,
   "metadata": {
    "collapsed": false
   },
   "outputs": [],
   "source": [
    "%run -n main.py\n",
    "# urls = [_.url for _ in eduoffices_selection]\n",
    "# url_pennants = load_raw_url_pennants(log_progress(urls, every=1))\n",
    "# dump_url_pennants(url_pennants)\n",
    "# url_pennants = load_url_pennants()"
   ]
  },
  {
   "cell_type": "code",
   "execution_count": 849,
   "metadata": {
    "collapsed": false
   },
   "outputs": [],
   "source": [
    "%run -n main.py\n",
    "# url_rating_2015 = load_rating_2015()\n",
    "# title_rating_2013 = load_rating_2013()\n",
    "# # dump_ratings_check(eduoffices_selection, url_pennants, url_rating_2015)\n",
    "ratings = list(load_ratings_check())"
   ]
  },
  {
   "cell_type": "markdown",
   "metadata": {},
   "source": [
    "# ЕГЭ"
   ]
  },
  {
   "cell_type": "code",
   "execution_count": 850,
   "metadata": {
    "collapsed": false
   },
   "outputs": [],
   "source": [
    "%run -n main.py\n",
    "# podgon = list(load_podgon())"
   ]
  },
  {
   "cell_type": "code",
   "execution_count": 851,
   "metadata": {
    "collapsed": false
   },
   "outputs": [],
   "source": [
    "%run -n main.py\n",
    "# ege = list(load_ege())\n",
    "# dump_ege_title_host_check(ege, eduoffices_selection)\n",
    "# ege_title_host = list(load_ege_title_host_check())"
   ]
  },
  {
   "cell_type": "code",
   "execution_count": 852,
   "metadata": {
    "collapsed": false
   },
   "outputs": [],
   "source": [
    "%run -n main.py\n",
    "# ege_intervals = list(get_ege_intervals(ege, ege_title_host, podgon))\n",
    "# hosts = {get_host(_.url) for _ in eduoffices_selection}\n",
    "# ege_distributions = {_: fit_distribution(_) for _ in log_progress(ege_intervals, every=1) if _.host in hosts}\n",
    "# dump_ege_distributions_check(ege_distributions, eduoffices_selection)\n",
    "ege = list(load_ege_distributions_check())"
   ]
  },
  {
   "cell_type": "code",
   "execution_count": 853,
   "metadata": {
    "collapsed": false
   },
   "outputs": [
    {
     "data": {
      "text/plain": [
       "[<matplotlib.lines.Line2D at 0x119417dd0>]"
      ]
     },
     "execution_count": 853,
     "metadata": {},
     "output_type": "execute_result"
    },
    {
     "data": {
      "image/png": "[encoded data removed]",
      "text/plain": [
       "<matplotlib.figure.Figure at 0x119417610>"
      ]
     },
     "metadata": {},
     "output_type": "display_data"
    }
   ],
   "source": [
    "%run -n main.py\n",
    "for record in ege:\n",
    "    distribution = list(get_distribution(record.a, record.b, scale=1))\n",
    "    plt.plot(distribution, color='#4a71b2', alpha=0.05)\n",
    "distribution = list(get_distribution(2.8, 5.2, scale=1))\n",
    "plt.plot(distribution, color='red', alpha=1)"
   ]
  },
  {
   "cell_type": "code",
   "execution_count": 854,
   "metadata": {
    "collapsed": false
   },
   "outputs": [
    {
     "data": {
      "text/plain": [
       "(5.5, 9.0)"
      ]
     },
     "execution_count": 854,
     "metadata": {},
     "output_type": "execute_result"
    }
   ],
   "source": [
    "fit_distribution((None, 7,\t26,\t5))"
   ]
  },
  {
   "cell_type": "markdown",
   "metadata": {},
   "source": [
    "# Олимпиады"
   ]
  },
  {
   "cell_type": "code",
   "execution_count": 855,
   "metadata": {
    "collapsed": false
   },
   "outputs": [],
   "source": [
    "# queries = [_.short for _ in eduoffices_selection]\n",
    "# urls = [get_olimpiada_serp_url(_) for _ in queries]\n",
    "# [fetch_olimpiada_serp(_) for _ in log_progress(urls, every=1)]\n",
    "# olimpiada_serps = load_olimpiada_serps(queries)\n",
    "# dump_olimpiada_serps_check(olimpiada_serps)\n",
    "# olimpiada_logins = list(load_olympiada_logins(eduoffices_selection))"
   ]
  },
  {
   "cell_type": "code",
   "execution_count": 856,
   "metadata": {
    "collapsed": true
   },
   "outputs": [],
   "source": [
    "# for host, login in loo_progress(olimpiada_logins, every=1):\n",
    "#     fetch_olimpiada_russia_results(login)\n",
    "#     fetch_olimpiada_moscow_results(login)\n",
    "# olimpiada_results = list(load_olimpiada_results(olimpiada_logins))\n",
    "# dump_olympiads_check(olimpiada_results)\n",
    "olympiads = list(load_olympiads_check())"
   ]
  },
  {
   "cell_type": "markdown",
   "metadata": {},
   "source": [
    "# Университеты"
   ]
  },
  {
   "cell_type": "code",
   "execution_count": 857,
   "metadata": {
    "collapsed": false
   },
   "outputs": [],
   "source": [
    "school_vk_ids = load_school_vk_ids()\n",
    "vk_pupils = {\n",
    "    url: load_vk_pupils(vk_id)\n",
    "    for url, vk_id in school_vk_ids.iteritems()\n",
    "}\n",
    "# url_universities = get_vk_school_universities(vk_pupils)\n",
    "# dump_url_universities(url_universities)\n",
    "url_universities = load_url_universities()"
   ]
  },
  {
   "cell_type": "code",
   "execution_count": 858,
   "metadata": {
    "collapsed": true
   },
   "outputs": [],
   "source": [
    "universities = load_universities_check()\n",
    "url_universities.update(universities)"
   ]
  },
  {
   "cell_type": "markdown",
   "metadata": {},
   "source": [
    "# Контакты"
   ]
  },
  {
   "cell_type": "code",
   "execution_count": 860,
   "metadata": {
    "collapsed": true
   },
   "outputs": [],
   "source": [
    "contacts = list(load_contacts_check())"
   ]
  },
  {
   "cell_type": "markdown",
   "metadata": {},
   "source": [
    "# Учителя"
   ]
  },
  {
   "cell_type": "code",
   "execution_count": 861,
   "metadata": {
    "collapsed": true
   },
   "outputs": [],
   "source": [
    "teachers = list(load_teachers_check())"
   ]
  },
  {
   "cell_type": "code",
   "execution_count": 862,
   "metadata": {
    "collapsed": true
   },
   "outputs": [],
   "source": [
    "# teachers_staff = list(load_mskobr_teachers())\n",
    "# dump_teachers_staff_check(teachers_staff, teachers)\n",
    "other_teachers = list(load_teachers_staff_check(TEACHERS_STAFF_CHECK))"
   ]
  },
  {
   "cell_type": "markdown",
   "metadata": {},
   "source": [
    "# Фотографии"
   ]
  },
  {
   "cell_type": "code",
   "execution_count": 21,
   "metadata": {
    "collapsed": false
   },
   "outputs": [],
   "source": [
    "# url_galleries = get_raw_url_galleries(log_progress(url_menus, every=1), url_menus)\n",
    "# url_gallery_urls = get_url_gallery_urls(log_progress(url_galleries, every=1), url_galleries)\n",
    "# url_image_urls = get_url_image_urls(log_progress(url_gallery_urls, every=1), url_gallery_urls)\n",
    "# dump_gallery_images(url_image_urls)\n",
    "# url_image_urls = load_gallery_images()\n",
    "# dump_images_check_dir(url_image_urls)\n",
    "image_urls = list(load_images_check())"
   ]
  },
  {
   "cell_type": "code",
   "execution_count": 125,
   "metadata": {
    "collapsed": false
   },
   "outputs": [],
   "source": [
    "cache = set(list_raw_images_cache())\n",
    "urls = [_ for _ in image_urls if get_image_filename(_) not in cache]\n",
    "download_images(log_progress(urls, every=1))"
   ]
  },
  {
   "cell_type": "code",
   "execution_count": 126,
   "metadata": {
    "collapsed": false
   },
   "outputs": [],
   "source": [
    "cache = set(list_thumb_images_cache())\n",
    "filenames = {get_image_filename(_) for _ in image_urls} - cache\n",
    "resize_images(log_progress(filenames, every=1))"
   ]
  },
  {
   "cell_type": "code",
   "execution_count": 863,
   "metadata": {
    "collapsed": false
   },
   "outputs": [],
   "source": [
    "images = list(load_images(log_progress(image_urls, every=100)))"
   ]
  },
  {
   "cell_type": "markdown",
   "metadata": {},
   "source": [
    "# Feedback"
   ]
  },
  {
   "cell_type": "code",
   "execution_count": 130,
   "metadata": {
    "collapsed": false
   },
   "outputs": [],
   "source": [
    "%run -n main.py\n",
    "imap = get_imap()"
   ]
  },
  {
   "cell_type": "code",
   "execution_count": 131,
   "metadata": {
    "collapsed": true
   },
   "outputs": [],
   "source": [
    "indexes = list(get_feedback_mail_indexes(imap))"
   ]
  },
  {
   "cell_type": "code",
   "execution_count": 132,
   "metadata": {
    "collapsed": true
   },
   "outputs": [],
   "source": [
    "%run -n main.py\n",
    "feedback = list(load_feedback_messages(imap, log_progress(indexes, every=1)))"
   ]
  },
  {
   "cell_type": "code",
   "execution_count": 133,
   "metadata": {
    "collapsed": false
   },
   "outputs": [],
   "source": [
    "data = []\n",
    "for record in feedback:\n",
    "    if record.type == 'review':\n",
    "        index = record.id\n",
    "        date = record.date\n",
    "        sections = dict(record.sections)\n",
    "        school = sections['school']\n",
    "        contacts_ = sections.get('contacts')\n",
    "        status = sections.get('status')\n",
    "        status = {\n",
    "            'pupil': u'Ученик',\n",
    "            'graduate': u'Выпускник',\n",
    "            'parent': u'Родитель'\n",
    "        }.get(status)\n",
    "        text = sections['text']\n",
    "        data.append((\n",
    "            school + '.mskobr.ru',\n",
    "            'http://obr.msk.ru',\n",
    "                date,\n",
    "                status,\n",
    "                contacts_,\n",
    "                None,\n",
    "                text\n",
    "            ))\n",
    "table = pd.DataFrame(data)\n",
    "table.to_excel('t.xlsx', index=False)"
   ]
  },
  {
   "cell_type": "markdown",
   "metadata": {},
   "source": [
    "# Отзывы"
   ]
  },
  {
   "cell_type": "code",
   "execution_count": 864,
   "metadata": {
    "collapsed": false
   },
   "outputs": [],
   "source": [
    "# schoolotzyv_lists = list(download_schoolotzyv_lists(log_progress(SCHOOLOTZYV_REGIONS, every=1)))\n",
    "# urls = [_['url'] for _ in schoolotzyv_lists]\n",
    "# fetch_urls(log_progress(urls, every=1))\n",
    "# schoolotzyv_school_pages = list(load_schoolotzyv_school_pages(urls))\n",
    "# schoolotzyv_reviews = list(load_raw_schoolotzyv_reviews(log_progress(records, every=1))\n",
    "# dump_schoolotzyv_reviews(schoolotzyv_reviews)\n",
    "schoolotzyv_reviews = list(load_schoolotzyv_reviews())\n",
    "\n",
    "# mel_school_urls = list(load_mel_school_urls())\n",
    "# mel_reviews = list(load_raw_mel_reviews(log_progress(mel_school_urls, every=1)))\n",
    "# dump_mel_reviews(mel_reviews)\n",
    "mel_reviews = list(load_mel_reviews())\n",
    "\n",
    "# dump_reviews_check(schoolotzyv_reviews, mel_reviews, ratings)\n",
    "reviews = list(load_reviews_check())"
   ]
  },
  {
   "cell_type": "markdown",
   "metadata": {},
   "source": [
    "# Опросы"
   ]
  },
  {
   "cell_type": "code",
   "execution_count": 865,
   "metadata": {
    "collapsed": false
   },
   "outputs": [],
   "source": [
    "%run -n main.py\n",
    "data = download_public_wall('obrmsk')\n",
    "vk_polls = list(parse_public_wall_polls(data))"
   ]
  },
  {
   "cell_type": "code",
   "execution_count": 866,
   "metadata": {
    "collapsed": false
   },
   "outputs": [],
   "source": [
    "data = [_ for poll in vk_polls for _ in download_poll_votes(poll)]\n",
    "poll_answers = list(parse_poll_votes(data))"
   ]
  },
  {
   "cell_type": "code",
   "execution_count": 867,
   "metadata": {
    "collapsed": false
   },
   "outputs": [],
   "source": [
    "%run -n main.py\n",
    "polls = list(get_poll_stats(vk_pupils, vk_polls, poll_answers))"
   ]
  },
  {
   "cell_type": "markdown",
   "metadata": {},
   "source": [
    "# Зарплаты, число учеников и учителей"
   ]
  },
  {
   "cell_type": "code",
   "execution_count": 1393,
   "metadata": {
    "collapsed": false
   },
   "outputs": [],
   "source": [
    "%run -n main.py\n",
    "host_id = get_host_eduoffice_id(eduoffices, eduoffices_selection)"
   ]
  },
  {
   "cell_type": "code",
   "execution_count": 871,
   "metadata": {
    "collapsed": false
   },
   "outputs": [],
   "source": [
    "%run -n main.py\n",
    "# ids = host_id.values()\n",
    "# %job [download_eduoffice_report(id) for id in log_progress(ids, every=1)]\n",
    "# eduoffice_reports = list(load_eduoffice_reports(log_progress(ids, every=1)))"
   ]
  },
  {
   "cell_type": "code",
   "execution_count": 1413,
   "metadata": {
    "collapsed": false
   },
   "outputs": [],
   "source": [
    "%run -n main.py\n",
    "# dump_eduoffice_report_check(host_id, eduoffice_reports)\n",
    "eduoffice_reports = list(load_eduoffice_report_check())"
   ]
  },
  {
   "cell_type": "code",
   "execution_count": 873,
   "metadata": {
    "collapsed": false
   },
   "outputs": [
    {
     "name": "stdout",
     "output_type": "stream",
     "text": [
      "{4: 1, 7: 7, 8: 10, 9: 34, 10: 122, 11: 155, 12: 102, 13: 57, 14: 22, 15: 13, 16: 6, 17: 5, 18: 1, 19: 1, 20: 2, 22: 1, 23: 2, 27: 1}\n"
     ]
    }
   ],
   "source": [
    "data = Counter(\n",
    "    _.pupils / _.teachers\n",
    "    for _ in eduoffice_reports\n",
    ")\n",
    "print dict(data)"
   ]
  },
  {
   "cell_type": "code",
   "execution_count": 874,
   "metadata": {
    "collapsed": false
   },
   "outputs": [
    {
     "name": "stdout",
     "output_type": "stream",
     "text": [
      "{80000: 17, 72000: 44, 85000: 5, 74000: 49, 79000: 17, 106000: 1, 63000: 1, 81000: 10, 73000: 54, 84000: 6, 78000: 30, 86000: 6, 89000: 1, 94000: 1, 69000: 20, 62000: 1, 67000: 9, 75000: 48, 88000: 3, 68000: 20, 71000: 35, 77000: 31, 66000: 10, 83000: 4, 64000: 6, 55000: 1, 56000: 1, 76000: 42, 82000: 12, 90000: 4, 65000: 6, 95000: 1, 70000: 37, 57000: 1, 40000: 1, 87000: 4, 91000: 1, 58000: 2}\n"
     ]
    }
   ],
   "source": [
    "data = Counter(\n",
    "    int(_.salaries / 1000) * 1000\n",
    "    for _ in eduoffice_reports\n",
    ")\n",
    "print dict(data)"
   ]
  },
  {
   "cell_type": "markdown",
   "metadata": {},
   "source": [
    "# Сайт"
   ]
  },
  {
   "cell_type": "code",
   "execution_count": 1466,
   "metadata": {
    "collapsed": false,
    "scrolled": false
   },
   "outputs": [],
   "source": [
    "%run -n main.py\n",
    "schools = list(get_viz_schools(\n",
    "    eduoffices_selection, eduoffices, ratings, school_addresses,\n",
    "    ege, olympiads, url_universities,\n",
    "    contacts, teachers, images,\n",
    "    reviews, polls, eduoffice_reports,\n",
    "    sad_selection\n",
    "))"
   ]
  },
  {
   "cell_type": "code",
   "execution_count": 1467,
   "metadata": {
    "collapsed": false
   },
   "outputs": [],
   "source": [
    "%run -n main.py\n",
    "generate_school_pages(schools)"
   ]
  },
  {
   "cell_type": "code",
   "execution_count": 226,
   "metadata": {
    "collapsed": false
   },
   "outputs": [],
   "source": [
    "generate_index(schools)"
   ]
  },
  {
   "cell_type": "code",
   "execution_count": 227,
   "metadata": {
    "collapsed": false
   },
   "outputs": [],
   "source": [
    "generate_list(schools)"
   ]
  },
  {
   "cell_type": "markdown",
   "metadata": {},
   "source": [
    "# Финансы"
   ]
  },
  {
   "cell_type": "code",
   "execution_count": 178,
   "metadata": {
    "collapsed": true
   },
   "outputs": [],
   "source": [
    "%run -n main.py\n",
    "host_inn = get_host_inn(eduoffices, eduoffices_selection)"
   ]
  },
  {
   "cell_type": "code",
   "execution_count": 179,
   "metadata": {
    "collapsed": false
   },
   "outputs": [],
   "source": [
    "inns = host_inn.values()\n",
    "# for inn in log_progress(inns, every=1):\n",
    "#     fetch_bus_search(inn)\n",
    "bus_search = [load_bus_search_record(_) for _ in inns]    "
   ]
  },
  {
   "cell_type": "code",
   "execution_count": 180,
   "metadata": {
    "collapsed": false
   },
   "outputs": [],
   "source": [
    "# for record in log_progress(bus_search, every=1):\n",
    "#     fetch_bus_latest_report(record.id)\n",
    "bus_years = [load_bus_report_years(_.id) for _ in log_progress(bus_search, every=1)]"
   ]
  },
  {
   "cell_type": "code",
   "execution_count": 181,
   "metadata": {
    "collapsed": false
   },
   "outputs": [],
   "source": [
    "# for record in log_progress(bus_years, every=1):\n",
    "#     year = record.year_2015\n",
    "#     if year:\n",
    "#         fetch_bus_report(record.id, year)\n",
    "bus_reports = [load_bus_report(_.id, _.year_2015) for _ in log_progress(bus_years, every=1) if _.year_2015]"
   ]
  },
  {
   "cell_type": "markdown",
   "metadata": {
    "collapsed": true
   },
   "source": [
    "# Детские сады"
   ]
  },
  {
   "cell_type": "code",
   "execution_count": 908,
   "metadata": {
    "collapsed": false
   },
   "outputs": [],
   "source": [
    "# dump_sads_check(eduoffices_selection, eduoffices)\n",
    "sad_selection = list(load_sads_check())"
   ]
  },
  {
   "cell_type": "markdown",
   "metadata": {},
   "source": [
    "# Адреса"
   ]
  },
  {
   "cell_type": "code",
   "execution_count": 1043,
   "metadata": {
    "collapsed": false
   },
   "outputs": [],
   "source": [
    "# dump_sad_addresses_check(sad_selection, url_menus, eduoffices)\n",
    "sad_addresses = list(load_address_check(SAD_ADDRESSES_CHECK))"
   ]
  },
  {
   "cell_type": "markdown",
   "metadata": {},
   "source": [
    "# Фотографии"
   ]
  },
  {
   "cell_type": "code",
   "execution_count": 98,
   "metadata": {
    "collapsed": false
   },
   "outputs": [],
   "source": [
    "# url_galleries = get_raw_url_galleries(log_progress(url_menus, every=1), url_menus, include_base=False, programs=(u'Дошкольное',))\n",
    "# url_gallery_urls = get_url_gallery_urls(log_progress(url_galleries, every=10), url_galleries)\n",
    "url_image_urls = get_url_image_urls(log_progress(url_gallery_urls, every=1), url_gallery_urls)"
   ]
  },
  {
   "cell_type": "code",
   "execution_count": 1383,
   "metadata": {
    "collapsed": false,
    "scrolled": true
   },
   "outputs": [],
   "source": [
    "%run -n main.py\n",
    "# dump_gallery_images(url_image_urls, SAD_GALLERY_IMAGES)\n",
    "# url_image_urls = load_gallery_images(SAD_GALLERY_IMAGES)\n",
    "# dump_images_check_dir(url_image_urls)\n",
    "sad_image_urls = list(load_images_check(CHECK_SAD_IMAGES))"
   ]
  },
  {
   "cell_type": "code",
   "execution_count": 1384,
   "metadata": {
    "collapsed": false
   },
   "outputs": [],
   "source": [
    "cache = set(list_raw_images_cache())\n",
    "urls = [_ for _ in sad_image_urls if get_image_filename(_) not in cache]\n",
    "download_images(log_progress(urls, every=1))"
   ]
  },
  {
   "cell_type": "code",
   "execution_count": 1385,
   "metadata": {
    "collapsed": false
   },
   "outputs": [],
   "source": [
    "cache = set(list_thumb_images_cache())\n",
    "filenames = {get_image_filename(_) for _ in sad_image_urls} - cache\n",
    "resize_images(log_progress(filenames, every=1))"
   ]
  },
  {
   "cell_type": "code",
   "execution_count": 1386,
   "metadata": {
    "collapsed": false
   },
   "outputs": [],
   "source": [
    "sad_images = list(load_images(log_progress(sad_image_urls, every=100)))"
   ]
  },
  {
   "cell_type": "markdown",
   "metadata": {},
   "source": [
    "# Воспитатели"
   ]
  },
  {
   "cell_type": "code",
   "execution_count": 1347,
   "metadata": {
    "collapsed": false
   },
   "outputs": [],
   "source": [
    "%run -n main.py\n",
    "# url_staff = load_raw_url_staff_urls(log_progress(url_menus, every=10), url_menus, include_base=False, programs=(u'Дошкольное'))\n",
    "# dump_url_staff(url_staff, path=MSKOBR_SAD_URL_STAFF)\n",
    "# url_staff = load_url_staff(MSKOBR_SAD_URL_STAFF)\n",
    " \n",
    "# urls = url_staff.values()\n",
    "# url_teacher_urls = load_raw_url_teacher_urls(log_progress(urls, every=10))\n",
    "\n",
    "# urls = {url for teacher_urls in url_teacher_urls.itervalues() for url in teacher_urls}\n",
    "# teachers = list(load_raw_mskobr_teachers(log_progress(urls, every=10)))\n",
    "\n",
    "# dump_mskobr_teachers(teachers, MSKOBR_SAD_TEACHERS)\n",
    "# sad_teachers = list(load_mskobr_teachers(MSKOBR_SAD_TEACHERS))\n",
    "# dump_sad_teachers_check(sad_teachers)\n",
    "sad_teachers = list(load_sad_teachers_check(SAD_TEACHERS_CHECK))"
   ]
  },
  {
   "cell_type": "code",
   "execution_count": 1238,
   "metadata": {
    "collapsed": false
   },
   "outputs": [],
   "source": [
    "%run -n main.py\n",
    "normalize_word = StemNormalizer()\n",
    "url_teachers = {_.url: _ for _ in teachers + other_teachers + sad_teachers}\n",
    "host_sad_teachers = get_host_teacher_normal_names(log_progress(sad_teachers, every=1000), normalize_word)\n",
    "host_teachers = get_host_teacher_normal_names(log_progress(teachers + other_teachers, every=1000), normalize_word)"
   ]
  },
  {
   "cell_type": "code",
   "execution_count": 1325,
   "metadata": {
    "collapsed": false,
    "scrolled": false
   },
   "outputs": [],
   "source": [
    "# filenames = ...\n",
    "# convert_photos(log_progress(filenames, every=10))\n",
    "\n",
    "# filenames = list(list_photos_cache())\n",
    "# scale_sharpen_dir(PHOTO_DIR, log_progress(filenames, every=10))"
   ]
  },
  {
   "cell_type": "code",
   "execution_count": 1333,
   "metadata": {
    "collapsed": false
   },
   "outputs": [],
   "source": [
    "%run -n main.py\n",
    "url_photos = load_url_photos(sad_teachers)"
   ]
  },
  {
   "cell_type": "markdown",
   "metadata": {},
   "source": [
    "# Отзывы"
   ]
  },
  {
   "cell_type": "code",
   "execution_count": 152,
   "metadata": {
    "collapsed": false
   },
   "outputs": [],
   "source": [
    "# url_review_urls = get_url_review_urls(log_progress(url_menus, every=10))\n",
    "\n",
    "# urls = url_review_urls.values()\n",
    "# mskobr_reviews = list(load_raw_mskobr_reviews(log_progress(urls, every=1)))\n",
    "\n",
    "# dump_mskobr_reviews(mskobr_reviews)"
   ]
  },
  {
   "cell_type": "code",
   "execution_count": 200,
   "metadata": {
    "collapsed": false
   },
   "outputs": [],
   "source": [
    "# mskobr_reviews = list(load_mskobr_reviews())"
   ]
  },
  {
   "cell_type": "code",
   "execution_count": 725,
   "metadata": {
    "collapsed": false
   },
   "outputs": [],
   "source": [
    "# texts = []\n",
    "# cache = set(list_algfio_cache())\n",
    "# for url, reviews in mskobr_reviews:\n",
    "#     for review in reviews:\n",
    "#         text = review.text\n",
    "#         if text is not None and get_algfio_filename(text) not in cache:\n",
    "#             texts.append(text)\n",
    "# %job [convert_algfio_facts(_) for _ in log_progress(texts, every=1)]        "
   ]
  },
  {
   "cell_type": "code",
   "execution_count": 818,
   "metadata": {
    "collapsed": false,
    "scrolled": false
   },
   "outputs": [],
   "source": [
    "%run -n main.py\n",
    "# dump_sad_algfio_reviews_check(\n",
    "#     log_progress(mskobr_reviews, every=1),\n",
    "#     host_sad_teachers, host_teachers, url_teachers, normalize_word\n",
    "# )\n",
    "sad_algfio_reviews = list(load_algfio_reviews_check(CHECK_SAD_ALGFIO_REVIEWS))"
   ]
  },
  {
   "cell_type": "code",
   "execution_count": 1242,
   "metadata": {
    "collapsed": false,
    "scrolled": false
   },
   "outputs": [],
   "source": [
    "%run -n main.py\n",
    "sad_review_mentions = list(get_sad_teachers_reviews(\n",
    "    log_progress(sad_algfio_reviews, every=1000),\n",
    "    host_sad_teachers, host_teachers, url_teachers\n",
    "))"
   ]
  },
  {
   "cell_type": "markdown",
   "metadata": {},
   "source": [
    "# Сайт"
   ]
  },
  {
   "cell_type": "code",
   "execution_count": 1448,
   "metadata": {
    "collapsed": false
   },
   "outputs": [],
   "source": [
    "%run -n main.py\n",
    "sads = list(get_viz_sads(sad_selection, schools, sad_addresses, sad_review_mentions, url_photos, sad_images, eduoffice_reports))"
   ]
  },
  {
   "cell_type": "code",
   "execution_count": 1462,
   "metadata": {
    "collapsed": false
   },
   "outputs": [],
   "source": [
    "%run -n main.py\n",
    "generate_sad_pages(sads)"
   ]
  },
  {
   "cell_type": "code",
   "execution_count": 1375,
   "metadata": {
    "collapsed": false
   },
   "outputs": [],
   "source": [
    "%run -n main.py\n",
    "generate_index(schools, sads)"
   ]
  },
  {
   "cell_type": "code",
   "execution_count": 1377,
   "metadata": {
    "collapsed": true
   },
   "outputs": [],
   "source": [
    "%run -n main.py\n",
    "generate_list(schools, sads)"
   ]
  },
  {
   "cell_type": "code",
   "execution_count": null,
   "metadata": {
    "collapsed": true
   },
   "outputs": [],
   "source": []
  }
 ],
 "metadata": {
  "kernelspec": {
   "display_name": "Python 2",
   "language": "python",
   "name": "python2"
  },
  "language_info": {
   "codemirror_mode": {
    "name": "ipython",
    "version": 2
   },
   "file_extension": ".py",
   "mimetype": "text/x-python",
   "name": "python",
   "nbconvert_exporter": "python",
   "pygments_lexer": "ipython2",
   "version": "2.7.10"
  }
 },
 "nbformat": 4,
 "nbformat_minor": 0
}
